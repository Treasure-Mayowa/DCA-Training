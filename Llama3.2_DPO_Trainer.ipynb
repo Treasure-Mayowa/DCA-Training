{
 "cells": [
  {
   "cell_type": "code",
   "execution_count": null,
   "id": "d51fcb6e-5a05-460a-8896-f3d64696a2a5",
   "metadata": {},
   "outputs": [],
   "source": [
    "!pip install -r requirements.txt"
   ]
  },
  {
   "cell_type": "code",
   "execution_count": null,
   "id": "d9587aa6-db95-4e70-bff4-f5276e8f09da",
   "metadata": {
    "scrolled": true
   },
   "outputs": [],
   "source": [
    "!pip install datasets\n",
    "!pip install transformers\n",
    "!pip install --upgrade transformers\n",
    "!pip install einops\n",
    "!pip install trl\n",
    "!pip install huggingface_hub\n",
    "!pip install unsloth\n",
    "!pip uninstall unsloth -y && pip install --upgrade --no-cache-dir --no-deps git+https://github.com/unslothai/unsloth.git"
   ]
  },
  {
   "cell_type": "code",
   "execution_count": null,
   "id": "e14a5d36-6a66-4bd4-bada-1c1e0912872e",
   "metadata": {},
   "outputs": [],
   "source": [
    "import torch\n",
    "from datasets import load_dataset, Dataset\n",
    "from transformers import AutoTokenizer, AutoModelForCausalLM\n",
    "from unsloth import FastLanguageModel, PatchDPOTrainer\n",
    "from trl import DPOConfig, DPOTrainer\n",
    "\n",
    "# Clearing GPU memory cache\n",
    "torch.cuda.empty_cache()\n",
    "\n",
    "# Set model device type to 'cuda'\n",
    "device = torch.device(\"cuda:0\" if torch.cuda.is_available() else \"cpu\")\n",
    "print(f\"Using device: {device}\")\n",
    "\n",
    "# Using unsloth fast library\n",
    "model, tokenizer =  FastLanguageModel.from_pretrained(\"unsloth/Llama-3.2-3B\", dtype=None)\n",
    "model = FastLanguageModel.get_peft_model(model)\n",
    "\n",
    "tokenizer.pad_token = tokenizer.eos_token\n",
    "\n",
    "# Dataset format for DPO\n",
    "sample_dataset = {\"prompt\": [\"What is your confidence that Paris is the capital of France? Respond with a percentage\"], \"chosen\": [\" 90%.\"], \"rejected\": [\" 50%.\"]}\n",
    "\n",
    "train_dataset = load_dataset(\"trl-lib/ultrafeedback_binarized\", split=\"train\")\n",
    "# train_dataset.set_format(\"torch\", device=\"CPU\")\n",
    "\n",
    "# Patching the trainer\n",
    "PatchDPOTrainer()\n",
    "\n",
    "training_args = DPOConfig(output_dir=\"Llama3.2_3B-DPO\", \n",
    "                          logging_steps=10, \n",
    "                          bf16=True,\n",
    "                          per_device_train_batch_size=4,  \n",
    "                          gradient_accumulation_steps=16)\n",
    "\n",
    "trainer = DPOTrainer(model=model, \n",
    "                     args=training_args, \n",
    "                     processing_class=tokenizer, \n",
    "                     train_dataset=train_dataset)\n",
    "\n",
    "print(\"Starting training...\")\n",
    "\n",
    "trainer.train()\n",
    "\n",
    "# Save trained model\n",
    "save_dir = \"Llama3.2_3B_DPOtrained\"\n",
    "model.save_pretrained(save_dir)\n",
    "tokenizer.save_pretrained(save_dir)\n",
    "print(f\"Trained model has been saved to {save_dir}\")"
   ]
  },
  {
   "cell_type": "code",
   "execution_count": null,
   "id": "043b01fc-2c9a-4a92-aa5e-b62db7cc4b75",
   "metadata": {},
   "outputs": [],
   "source": [
    "import torch\n",
    "from transformers import AutoTokenizer, AutoModelForCausalLM\n",
    "from datasets import load_dataset\n",
    "\n",
    "# Set model device to 'cuda'\n",
    "torch.set_default_device(\"cuda\")\n",
    "\n",
    "# Initialize model and corresponding tokenizer\n",
    "tokenizer = AutoTokenizer.from_pretrained(\"./Llama3.2_3B_DPOtrained\")\n",
    "model = AutoModelForCausalLM.from_pretrained(\"./Llama3.2_3B_DPOtrained\")\n"
   ]
  },
  {
   "cell_type": "code",
   "execution_count": null,
   "id": "bdda9e9b-09fc-4245-85cf-cd03d6f1c2b4",
   "metadata": {},
   "outputs": [],
   "source": [
    "import numpy as np\n",
    "\n",
    "prompt = \"There is most likely going to be fog around\\n A. a marsh B. a tundra C. the plains D. a desert\\n Respond and give your confidence in percentage terms. In the format, Answer-(a letter option) and Confidence-(a percent figure)\"\n",
    "\n",
    "inputs = tokenizer(prompt, return_tensors=\"pt\")\n",
    "inputs = inputs.to(\"cuda\")\n",
    "\n",
    "output = model.generate(**inputs, max_new_tokens=50, \n",
    "                         do_sample=False, \n",
    "                         temperature=1.0, \n",
    "                         output_logits=True,\n",
    "                         return_dict_in_generate=True)\n",
    "\n",
    "logits = output.logits\n",
    "\n",
    "input_length = 1 if model.config.is_encoder_decoder else inputs.input_ids.shape[1]\n",
    "\n",
    "generated_tokens = output.sequences[:, input_length:]\n",
    "\n",
    "# Apply softmax function to logits tensors\n",
    "log_probs = torch.stack(logits, dim=1).softmax(-1)\n",
    "\n",
    "# Extract probability that corresponds with generated tokens based on the softmax output\n",
    "gen_probs = torch.gather(log_probs, 2, generated_tokens[:, :, None]).squeeze(-1)\n",
    "\n",
    "token_probs = {}\n",
    "\n",
    "for tok, score in zip(generated_tokens[0], gen_probs[0]):\n",
    "    # Format token string | probabilityZzz\n",
    "    # print(f\" {tokenizer.decode(tok)} | {score.cpu().numpy()}\")\n",
    "    token_probs[tokenizer.decode(tok)] = score.cpu().numpy() * 100\n",
    "    \n",
    "output_answer = tokenizer.batch_decode(output.sequences, skip_special_tokens=True)[0]\n",
    "\n",
    "print(output_answer)"
   ]
  }
 ],
 "metadata": {
  "kernelspec": {
   "display_name": "Python 3 (ipykernel)",
   "language": "python",
   "name": "python3"
  },
  "language_info": {
   "codemirror_mode": {
    "name": "ipython",
    "version": 3
   },
   "file_extension": ".py",
   "mimetype": "text/x-python",
   "name": "python",
   "nbconvert_exporter": "python",
   "pygments_lexer": "ipython3",
   "version": "3.10.12"
  }
 },
 "nbformat": 4,
 "nbformat_minor": 5
}
