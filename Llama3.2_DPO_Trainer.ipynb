{
 "cells": [
  {
   "cell_type": "code",
   "execution_count": null,
   "id": "d51fcb6e-5a05-460a-8896-f3d64696a2a5",
   "metadata": {},
   "outputs": [],
   "source": [
    "!pip install -r requirements.txt"
   ]
  },
  {
   "cell_type": "code",
   "execution_count": null,
   "id": "d9587aa6-db95-4e70-bff4-f5276e8f09da",
   "metadata": {
    "scrolled": true
   },
   "outputs": [],
   "source": [
    "!pip install datasets\n",
    "!pip install transformers\n",
    "!pip install --upgrade transformers\n",
    "!pip install einops\n",
    "!pip install trl\n",
    "!pip install huggingface_hub\n",
    "!pip install unsloth\n",
    "# Also get the latest nightly Unsloth!\n",
    "!pip uninstall unsloth -y && pip install --upgrade --no-cache-dir --no-deps git+https://github.com/unslothai/unsloth.git"
   ]
  },
  {
   "cell_type": "code",
   "execution_count": null,
   "id": "e14a5d36-6a66-4bd4-bada-1c1e0912872e",
   "metadata": {},
   "outputs": [],
   "source": [
    "import torch\n",
    "from datasets import load_dataset, Dataset\n",
    "from transformers import AutoTokenizer, AutoModelForCausalLM\n",
    "from unsloth import FastLanguageModel\n",
    "from trl import DPOConfig, DPOTrainer\n",
    "from huggingface_hub import notebook_login\n",
    "notebook_login()\n",
    "\n",
    "# Clearing GPU memory cache\n",
    "torch.cuda.empty_cache()\n",
    "\n",
    "# Set model device type to 'cuda'\n",
    "device = torch.device(\"cuda:0\" if torch.cuda.is_available() else \"cpu\")\n",
    "print(f\"Using device: {device}\")\n",
    "\n",
    "# Loading in an open source model with internal logit access\n",
    "# tokenizer = AutoTokenizer.from_pretrained(\"meta-llama/Llama-3.2-3B-Instruct\", torch_dtype=\"auto\", trust_remote_code=True)\n",
    "# model = AutoModelForCausalLM.from_pretrained(\"meta-llama/Llama-3.2-3B-Instruct\", trust_remote_code=True).to(device)\n",
    "\n",
    "# Using unsloth fast library\n",
    "model, tokenizer =  FastLanguageModel.from_pretrained(\"unsloth/Llama-3.2-3B-Instruct\", dtype=None)\n",
    "model = FastLanguageModel.get_peft_model(model)\n",
    "\n",
    "tokenizer.pad_token = tokenizer.eos_token\n",
    "\n",
    "# Dataset format for DPO\n",
    "sample_dataset = {\"prompt\": [\"What is your confidence that Paris is the capital of France? Respond with a percentage\"], \"chosen\": [\" 90%.\"], \"rejected\": [\" 50%.\"]}\n",
    "\n",
    "train_dataset = load_dataset(\"trl-lib/ultrafeedback_binarized\", split=\"train\")\n",
    "# train_dataset.set_format(\"torch\", device=\"cpu\")\n",
    "\n",
    "training_args = DPOConfig(output_dir=\"Llama3.2_3B-DPO\", \n",
    "                          logging_steps=10, \n",
    "                          bf16=True,\n",
    "                          per_device_train_batch_size=4,  \n",
    "                          gradient_accumulation_steps=16)\n",
    "\n",
    "trainer = DPOTrainer(model=model, \n",
    "                     args=training_args, \n",
    "                     processing_class=tokenizer, \n",
    "                     train_dataset=train_dataset)\n",
    "print(\"Starting training...\")\n",
    "\n",
    "trainer.train(resume_from_checkpoint=True)\n",
    "\n",
    "# Save trained model\n",
    "save_dir = \"Llama3.2_3B_DPOtrained\"\n",
    "model.save_pretrained(save_dir)\n",
    "tokenizer.save_pretrained(save_dir)\n",
    "print(f\"Trained model has been saved to {save_dir}\")"
   ]
  },
  {
   "cell_type": "code",
   "execution_count": null,
   "id": "043b01fc-2c9a-4a92-aa5e-b62db7cc4b75",
   "metadata": {},
   "outputs": [],
   "source": [
    "import torch\n",
    "from transformers import AutoTokenizer, AutoModel, AutoModelForCausalLM\n",
    "from datasets import load_dataset\n",
    "\n",
    "# Set model device to 'cuda'\n",
    "torch.set_default_device(\"cuda\")\n",
    "\n",
    "# Initialize model and corresponding tokenizer\n",
    "tokenizer = AutoTokenizer.from_pretrained(\"./Llama3.2_3B_DPOtrained\", torch_dtype=\"auto\", trust_remote_code=True)\n",
    "model = AutoModelForCausalLM.from_pretrained(\"./Llama3.2_3B_DPOtrained\", trust_remote_code=True)\n"
   ]
  },
  {
   "cell_type": "code",
   "execution_count": null,
   "id": "bdda9e9b-09fc-4245-85cf-cd03d6f1c2b4",
   "metadata": {},
   "outputs": [],
   "source": [
    "prompt = \"how can i develop a habit of drawing daily\"\n",
    "\n",
    "inputs = tokenizer(prompt, return_tensors=\"pt\")\n",
    "inputs = inputs.to(\"cuda\")\n",
    "\n",
    "outputs = model.generate(**inputs, max_new_tokens=50, do_sample=False, temperature=None, top_p=None)\n",
    "\n",
    "logits = outputs\n",
    "\n",
    "# log_probs = torch.nn.functional.softmax(logits, dim=1)\n",
    "\n",
    "# print(f\"Logits: {logits}. S: {log_probs}\")\n",
    "\n",
    "output_answer = tokenizer.batch_decode(outputs, skip_special_tokens=True)[0]\n",
    "\n",
    "print(output_answer)"
   ]
  }
 ],
 "metadata": {
  "kernelspec": {
   "display_name": "Python 3 (ipykernel)",
   "language": "python",
   "name": "python3"
  },
  "language_info": {
   "codemirror_mode": {
    "name": "ipython",
    "version": 3
   },
   "file_extension": ".py",
   "mimetype": "text/x-python",
   "name": "python",
   "nbconvert_exporter": "python",
   "pygments_lexer": "ipython3",
   "version": "3.10.12"
  }
 },
 "nbformat": 4,
 "nbformat_minor": 5
}
