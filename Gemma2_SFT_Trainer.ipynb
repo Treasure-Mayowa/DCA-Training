{
 "cells": [
  {
   "cell_type": "code",
   "execution_count": null,
   "id": "7d6e0cd8-1129-4f1a-bb4c-f82c3dcb95c4",
   "metadata": {
    "scrolled": true
   },
   "outputs": [],
   "source": [
    "!pip install -r requirements.txt"
   ]
  },
  {
   "cell_type": "code",
   "execution_count": null,
   "id": "d9587aa6-db95-4e70-bff4-f5276e8f09da",
   "metadata": {
    "scrolled": true
   },
   "outputs": [],
   "source": [
    "!pip install datasets\n",
    "!pip install transformers\n",
    "!pip install einops\n",
    "!pip install trl\n",
    "!pip install huggingface_hub\n",
    "!pip install unsloth\n",
    "!pip uninstall unsloth -y && pip install --upgrade --no-cache-dir --no-deps git+https://github.com/unslothai/unsloth.git\n",
    "import torch\n",
    "if torch.cuda.get_device_capability()[0] >= 8:\n",
    "    !pip install --no-deps packaging ninja einops \"flash-attn>=2.6.3\"\n",
    "!pip -q uninstall transformers -y\n",
    "!pip -q install transformers==4.47.1"
   ]
  },
  {
   "cell_type": "markdown",
   "id": "44df97a6-87cf-4b1f-baba-a06abf4677cb",
   "metadata": {},
   "source": [
    "### Loading in model from Unsloth"
   ]
  },
  {
   "cell_type": "code",
   "execution_count": null,
   "id": "e14a5d36-6a66-4bd4-bada-1c1e0912872e",
   "metadata": {},
   "outputs": [],
   "source": [
    "import torch\n",
    "from unsloth import FastLanguageModel\n",
    "\n",
    "# Clearing GPU memory cache\n",
    "torch.cuda.empty_cache()\n",
    "\n",
    "# Set model device type to 'cuda'\n",
    "device = torch.device(\"cuda:0\" if torch.cuda.is_available() else \"cpu\")\n",
    "print(f\"Using device: {device}\")\n",
    "\n",
    "# Using unsloth fast library\n",
    "model, tokenizer =  FastLanguageModel.from_pretrained(\"unsloth/gemma-2-9b\", \n",
    "                                                      dtype=None, \n",
    "                                                      load_in_4bit=True )\n",
    "\n",
    "tokenizer.pad_token = tokenizer.eos_token\n",
    "tokenizer.chat_template = \"alpaca\"\n",
    "\n",
    "# Using LoRA adapters to only update part of the model's parameters\n",
    "model = FastLanguageModel.get_peft_model(\n",
    "    model,\n",
    "    r=16,\n",
    "    target_modules=[\"q_proj\", \"k_proj\", \"v_proj\", \"o_proj\",\n",
    "                      \"gate_proj\", \"up_proj\", \"down_proj\",],\n",
    "    lora_alpha = 16,\n",
    "    lora_dropout = 0,\n",
    "    bias = \"none\",   \n",
    "    use_gradient_checkpointing = \"unsloth\",\n",
    "    random_state = 3407,\n",
    "    use_rslora = False, \n",
    "    loftq_config = None, \n",
    ")"
   ]
  },
  {
   "cell_type": "code",
   "execution_count": null,
   "id": "60698ab5-1fb0-47a3-ac82-2ae122b19d39",
   "metadata": {},
   "outputs": [],
   "source": [
    "alpaca_prompt = \"\"\"Below is an instruction that describes a task, paired with an input that provides further context. Write a response that appropriately completes the request.\n",
    "\n",
    "### Instruction:\n",
    "{}\n",
    "\n",
    "### Input:\n",
    "{}\n",
    "\n",
    "### Response:\n",
    "{}\"\"\"\n",
    "\n",
    "EOS_TOKEN = tokenizer.eos_token # Must add EOS_TOKEN\n",
    "def formatting_prompts_func(examples):\n",
    "    instructions = examples[\"instruction\"]\n",
    "    inputs       = examples[\"input\"]\n",
    "    outputs      = examples[\"output\"]\n",
    "    texts = []\n",
    "    for instruction, input, output in zip(instructions, inputs, outputs):\n",
    "        # Must add EOS_TOKEN, otherwise your generation will go on forever!\n",
    "        text = alpaca_prompt.format(instruction, input, output) + EOS_TOKEN\n",
    "        texts.append(text)\n",
    "    return { \"text\" : texts, }\n",
    "pass\n",
    "\n",
    "from datasets import load_dataset\n",
    "train_dataset = load_dataset(\"yahma/alpaca-cleaned\", split = \"train\")\n",
    "train_dataset = train_dataset.map(formatting_prompts_func, batched = True,)## Dataset for training"
   ]
  },
  {
   "cell_type": "markdown",
   "id": "1486a1d5-13a8-4013-aeaa-dfc411e817f6",
   "metadata": {},
   "source": [
    "## SFT Training"
   ]
  },
  {
   "cell_type": "raw",
   "id": "b7c1d78d-d4f9-458e-be73-decd42ea07da",
   "metadata": {},
   "source": []
  },
  {
   "cell_type": "code",
   "execution_count": null,
   "id": "e087b477-907d-4cf0-8863-20238a9c11a7",
   "metadata": {},
   "outputs": [],
   "source": [
    "from trl import SFTTrainer\n",
    "from transformers import TrainingArguments\n",
    "from unsloth import is_bfloat16_supported\n",
    "\n",
    "training_args = TrainingArguments(\n",
    "        output_dir=\"Gemma2-SFT\",\n",
    "        per_device_train_batch_size = 2,\n",
    "        gradient_accumulation_steps = 4,\n",
    "        warmup_steps = 5,\n",
    "        # num_train_epochs = 1, # Set this for 1 full training run.\n",
    "        learning_rate = 2e-4,\n",
    "        fp16 = not is_bfloat16_supported(),\n",
    "        bf16 = is_bfloat16_supported(),\n",
    "        logging_steps = 1,\n",
    "        optim=\"adamw_8bit\",\n",
    "        weight_decay=0.01,\n",
    "        lr_scheduler_type=\"linear\",\n",
    "        seed = 3407,\n",
    "    )\n",
    "\n",
    "trainer = SFTTrainer(\n",
    "    model=model,\n",
    "    tokenizer=tokenizer,\n",
    "    train_dataset=train_dataset,\n",
    "    dataset_text_field = \"text\",\n",
    "    max_seq_length=2048,\n",
    "    dataset_num_proc=2,\n",
    "    packing=False, # Can make training 5x faster for short sequences.\n",
    "    args=training_args,\n",
    ")\n",
    "\n",
    "print(\"Starting training...\")\n",
    "\n",
    "trainer.train()\n",
    "\n",
    "# Save trained model\n",
    "save_dir = \"Gemma2_SFTtrained\"\n",
    "model.save_pretrained(save_dir)\n",
    "tokenizer.save_pretrained(save_dir)\n",
    "print(f\"Trained model has been saved to {save_dir}\")"
   ]
  },
  {
   "cell_type": "code",
   "execution_count": null,
   "id": "cc73a115-eb5b-4c7d-9681-e7c181d49560",
   "metadata": {},
   "outputs": [],
   "source": []
  },
  {
   "cell_type": "markdown",
   "id": "c501bc2f-31b4-493e-aefc-a0ca540cf5f4",
   "metadata": {},
   "source": [
    "## Testing after training"
   ]
  },
  {
   "cell_type": "code",
   "execution_count": null,
   "id": "043b01fc-2c9a-4a92-aa5e-b62db7cc4b75",
   "metadata": {},
   "outputs": [],
   "source": [
    "import torch\n",
    "from transformers import AutoTokenizer, AutoModelForCausalLM\n",
    "from datasets import load_dataset\n",
    "\n",
    "# Set model device to 'cuda'\n",
    "torch.set_default_device(\"cuda\")\n",
    "\n",
    "# Initialize model and corresponding tokenizer\n",
    "tokenizer = AutoTokenizer.from_pretrained(\"./Gemma2_SFTtrained\")\n",
    "model = AutoModelForCausalLM.from_pretrained(\"./Gemma2_SFTtrained\")\n"
   ]
  },
  {
   "cell_type": "code",
   "execution_count": null,
   "id": "bdda9e9b-09fc-4245-85cf-cd03d6f1c2b4",
   "metadata": {},
   "outputs": [],
   "source": [
    "import numpy as np\n",
    "\n",
    "prompt = \"There is most likely going to be fog around\\n A. a marsh B. a tundra C. the plains D. a desert\\n Respond and give your confidence in percentage terms. In the format, Answer-(a letter option) and Confidence-(a percent figure)\"\n",
    "\n",
    "inputs = tokenizer(prompt, return_tensors=\"pt\")\n",
    "inputs = inputs.to(\"cuda\")\n",
    "\n",
    "output = model.generate(**inputs, max_new_tokens=50, \n",
    "                         do_sample=False, \n",
    "                         temperature=1.0, \n",
    "                         output_logits=True,\n",
    "                         return_dict_in_generate=True)\n",
    "\n",
    "logits = output.logits\n",
    "\n",
    "input_length = 1 if model.config.is_encoder_decoder else inputs.input_ids.shape[1]\n",
    "\n",
    "generated_tokens = output.sequences[:, input_length:]\n",
    "\n",
    "# Apply softmax function to logits tensors\n",
    "log_probs = torch.stack(logits, dim=1).softmax(-1)\n",
    "\n",
    "# Extract probability that corresponds with generated tokens based on the softmax output\n",
    "gen_probs = torch.gather(log_probs, 2, generated_tokens[:, :, None]).squeeze(-1)\n",
    "\n",
    "token_probs = {}\n",
    "\n",
    "for tok, score in zip(generated_tokens[0], gen_probs[0]):\n",
    "    # Format token string | probability\n",
    "    # print(f\" {tokenizer.decode(tok)} | {score.cpu().numpy()}\")\n",
    "    token_probs[tokenizer.decode(tok)] = score.cpu().numpy() * 100\n",
    "    \n",
    "output_answer = tokenizer.batch_decode(output.sequences, skip_special_tokens=True)[0]\n",
    "\n",
    "print(output_answer)"
   ]
  }
 ],
 "metadata": {
  "kernelspec": {
   "display_name": "Python 3 (ipykernel)",
   "language": "python",
   "name": "python3"
  },
  "language_info": {
   "codemirror_mode": {
    "name": "ipython",
    "version": 3
   },
   "file_extension": ".py",
   "mimetype": "text/x-python",
   "name": "python",
   "nbconvert_exporter": "python",
   "pygments_lexer": "ipython3",
   "version": "3.10.12"
  }
 },
 "nbformat": 4,
 "nbformat_minor": 5
}
